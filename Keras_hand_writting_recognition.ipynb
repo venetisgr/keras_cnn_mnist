{
 "cells": [
  {
   "cell_type": "code",
   "execution_count": 8,
   "metadata": {},
   "outputs": [],
   "source": [
    "#Library Load  #We are gonna use Functional Keras\n",
    "\n",
    "from keras.models import Sequential, Model\n",
    "from keras.layers import Dense, Activation, Conv2D, BatchNormalization, MaxPooling2D, Flatten, Dropout, Input\n",
    "from keras.utils import to_categorical\n",
    "from keras.utils import np_utils\n",
    "\n",
    "import matplotlib.pyplot as plt\n",
    "\n",
    "\n",
    "import numpy as np\n",
    "import pandas as pd\n",
    "import matplotlib.pyplot as plt \n"
   ]
  },
  {
   "cell_type": "code",
   "execution_count": 2,
   "metadata": {},
   "outputs": [
    {
     "name": "stdout",
     "output_type": "stream",
     "text": [
      "(60000, 28, 28)\n",
      "(60000,)\n"
     ]
    }
   ],
   "source": [
    "#Dataset Load\n",
    "\n",
    "from keras.datasets import mnist\n",
    "\n",
    "(x_train, y_train), (x_test, y_test) = mnist.load_data()\n",
    "\n",
    "print(x_train.shape) # needs the depth dimension\n",
    "print(y_train.shape) # its not one hot encoded"
   ]
  },
  {
   "cell_type": "code",
   "execution_count": 3,
   "metadata": {},
   "outputs": [
    {
     "name": "stdout",
     "output_type": "stream",
     "text": [
      "(60000, 28, 28, 1)\n",
      "(60000, 10)\n"
     ]
    }
   ],
   "source": [
    "#Data Preperation\n",
    "\n",
    "img_H = x_train.shape[1]\n",
    "img_W = x_train.shape[2]\n",
    "depth= 1 #grayscale\n",
    "\n",
    "input_shape = (img_H, img_W, depth)\n",
    "\n",
    "#we convert our shape from 60000,28,28 to 60000,28,28,1 (we needed the depth)\n",
    "x_train = x_train.reshape(x_train.shape[0], img_H, img_W, depth)  #instead of shape, I could have used -1\n",
    "x_test = x_test.reshape(x_test.shape[0], img_H, img_W, depth)\n",
    "\n",
    "# we change our image type to float32 \n",
    "x_train = x_train.astype('float32')\n",
    "x_test = x_test.astype('float32')\n",
    "\n",
    "# image normalization max 255 becomes 1\n",
    "x_train = x_train/255\n",
    "x_test = x_test/255\n",
    "\n",
    "print(x_train.shape)\n",
    "\n",
    "#one hot encoding\n",
    "y_train = np_utils.to_categorical(y_train)\n",
    "y_test = np_utils.to_categorical(y_test)\n",
    "\n",
    "print(y_train.shape)\n"
   ]
  },
  {
   "cell_type": "code",
   "execution_count": 4,
   "metadata": {},
   "outputs": [
    {
     "name": "stdout",
     "output_type": "stream",
     "text": [
      "10\n",
      "784\n"
     ]
    }
   ],
   "source": [
    "#Extra information\n",
    "\n",
    "no_classes = y_train.shape[1]\n",
    "no_pixels= img_W*img_H #in one image\n",
    "\n",
    "print(no_classes)\n",
    "print(no_pixels)"
   ]
  },
  {
   "cell_type": "code",
   "execution_count": 5,
   "metadata": {},
   "outputs": [
    {
     "name": "stdout",
     "output_type": "stream",
     "text": [
      "_________________________________________________________________\n",
      "Layer (type)                 Output Shape              Param #   \n",
      "=================================================================\n",
      "input_1 (InputLayer)         (None, 28, 28, 1)         0         \n",
      "_________________________________________________________________\n",
      "conv2d_1 (Conv2D)            (None, 28, 28, 32)        320       \n",
      "_________________________________________________________________\n",
      "batch_normalization_1 (Batch (None, 28, 28, 32)        128       \n",
      "_________________________________________________________________\n",
      "activation_1 (Activation)    (None, 28, 28, 32)        0         \n",
      "_________________________________________________________________\n",
      "max_pooling2d_1 (MaxPooling2 (None, 14, 14, 32)        0         \n",
      "_________________________________________________________________\n",
      "conv2d_2 (Conv2D)            (None, 14, 14, 64)        18496     \n",
      "_________________________________________________________________\n",
      "batch_normalization_2 (Batch (None, 14, 14, 64)        256       \n",
      "_________________________________________________________________\n",
      "activation_2 (Activation)    (None, 14, 14, 64)        0         \n",
      "_________________________________________________________________\n",
      "max_pooling2d_2 (MaxPooling2 (None, 7, 7, 64)          0         \n",
      "_________________________________________________________________\n",
      "conv2d_3 (Conv2D)            (None, 7, 7, 128)         73856     \n",
      "_________________________________________________________________\n",
      "batch_normalization_3 (Batch (None, 7, 7, 128)         512       \n",
      "_________________________________________________________________\n",
      "activation_3 (Activation)    (None, 7, 7, 128)         0         \n",
      "_________________________________________________________________\n",
      "max_pooling2d_3 (MaxPooling2 (None, 4, 4, 128)         0         \n",
      "_________________________________________________________________\n",
      "flatten_1 (Flatten)          (None, 2048)              0         \n",
      "_________________________________________________________________\n",
      "dense_1 (Dense)              (None, 128)               262272    \n",
      "_________________________________________________________________\n",
      "activation_4 (Activation)    (None, 128)               0         \n",
      "_________________________________________________________________\n",
      "dropout_1 (Dropout)          (None, 128)               0         \n",
      "_________________________________________________________________\n",
      "dense_2 (Dense)              (None, 10)                1290      \n",
      "_________________________________________________________________\n",
      "activation_5 (Activation)    (None, 10)                0         \n",
      "=================================================================\n",
      "Total params: 357,130\n",
      "Trainable params: 356,682\n",
      "Non-trainable params: 448\n",
      "_________________________________________________________________\n"
     ]
    }
   ],
   "source": [
    "#Model Architecture \n",
    "\n",
    "i = Input(shape=(img_H, img_W, depth)) #We define the input shape #heightxwidthXdepth\n",
    "\n",
    "#Convolutional Layers\n",
    "x = Conv2D(filters=32, kernel_size=(3,3), padding=\"same\")(i) #default padding is valid\n",
    "x = BatchNormalization()(x) #Batch Norm is added after the convolution operation and before the  ReLU\n",
    "x = Activation(\"relu\")(x)\n",
    "x = MaxPooling2D(padding=\"same\")(x) #default values are strides = 2 and filter dimensions = 2 \n",
    "#28x28x1 --> 28x28x32 --> 14x14x32\n",
    "x = Conv2D(filters=64, kernel_size=(3,3), padding=\"same\")(x) #default padding is valid\n",
    "x = BatchNormalization()(x) #Batch Norm is added after the convolution operation and before the  ReLU\n",
    "x = Activation(\"relu\")(x)\n",
    "x = MaxPooling2D(padding=\"same\")(x) #default values are strides = 2 and filter dimensions = 2 \n",
    "#14x14x32 --> 14x14x64 --> 7x7x64\n",
    "x = Conv2D(filters=128, kernel_size=(3,3), padding=\"same\")(x) #default padding is valid\n",
    "x = BatchNormalization()(x) #Batch Norm is added after the convolution operation and before the  ReLU\n",
    "x = Activation(\"relu\")(x)\n",
    "x = MaxPooling2D(padding=\"same\")(x) #default values are strides = 2 and filter dimensions = 2 \n",
    "#7x7x64 --> 7x7x128 --> 4x4x128 ### PADDING SAME WITH ODD VALUE ON MAX POOLING ###\n",
    "\n",
    "#Flattening\n",
    "x = Flatten()(x) #4x4x128=2048 features  dim = (-1,2048)\n",
    "\n",
    "#Fully Connected Layers\n",
    "x = Dense(units=128)(x) #128 neurons\n",
    "x = Activation('relu')(x)\n",
    "x = Dropout(0.5)(x)#Dropout probability to drop a neuron #Dropout is added after the activation\n",
    "x = Dense(units=no_classes)(x)#Where k is the no classes\n",
    "x = Activation('softmax')(x)#Here on the contrary with tensorflow we have to manually add the softmax layer\n",
    "\n",
    "\n",
    "#Compile the model\n",
    "model = Model(inputs = i, outputs=x ) #we need to define the input and the output of the model\n",
    "\n",
    "#Model Architecture Visualization\n",
    "\n",
    "model.summary()\n",
    "\n",
    "\n"
   ]
  },
  {
   "cell_type": "code",
   "execution_count": 6,
   "metadata": {},
   "outputs": [],
   "source": [
    "#Loss Function, Optimizer and metrics\n",
    "\n",
    "model.compile(loss = \"categorical_crossentropy\", #used for multiple class problems\n",
    "             optimizer = \"adam\",\n",
    "             metrics = [\"accuracy\"])\n",
    "\n"
   ]
  },
  {
   "cell_type": "code",
   "execution_count": 7,
   "metadata": {},
   "outputs": [
    {
     "name": "stdout",
     "output_type": "stream",
     "text": [
      "Train on 60000 samples, validate on 10000 samples\n",
      "Epoch 1/15\n",
      "60000/60000 [==============================] - 16s 271us/step - loss: 0.2390 - acc: 0.9258 - val_loss: 0.0445 - val_acc: 0.9873\n",
      "Epoch 2/15\n",
      "60000/60000 [==============================] - 14s 226us/step - loss: 0.1126 - acc: 0.9664 - val_loss: 0.0402 - val_acc: 0.9878\n",
      "Epoch 3/15\n",
      "60000/60000 [==============================] - 14s 226us/step - loss: 0.0860 - acc: 0.9739 - val_loss: 0.0315 - val_acc: 0.9895\n",
      "Epoch 4/15\n",
      "60000/60000 [==============================] - 13s 223us/step - loss: 0.0701 - acc: 0.9780 - val_loss: 0.0306 - val_acc: 0.9908\n",
      "Epoch 5/15\n",
      "60000/60000 [==============================] - 13s 224us/step - loss: 0.0571 - acc: 0.9827 - val_loss: 0.0258 - val_acc: 0.9918\n",
      "Epoch 6/15\n",
      "60000/60000 [==============================] - 13s 224us/step - loss: 0.0476 - acc: 0.9862 - val_loss: 0.0216 - val_acc: 0.9933\n",
      "Epoch 7/15\n",
      "60000/60000 [==============================] - 14s 233us/step - loss: 0.0412 - acc: 0.9876 - val_loss: 0.0219 - val_acc: 0.9936\n",
      "Epoch 8/15\n",
      "60000/60000 [==============================] - 14s 230us/step - loss: 0.0325 - acc: 0.9899 - val_loss: 0.0326 - val_acc: 0.9913\n",
      "Epoch 9/15\n",
      "60000/60000 [==============================] - 14s 227us/step - loss: 0.0281 - acc: 0.9916 - val_loss: 0.0257 - val_acc: 0.9934\n",
      "Epoch 10/15\n",
      "60000/60000 [==============================] - 13s 222us/step - loss: 0.0248 - acc: 0.9922 - val_loss: 0.0294 - val_acc: 0.9923\n",
      "Epoch 11/15\n",
      "60000/60000 [==============================] - 13s 223us/step - loss: 0.0224 - acc: 0.9936 - val_loss: 0.0256 - val_acc: 0.9939\n",
      "Epoch 12/15\n",
      "60000/60000 [==============================] - 14s 230us/step - loss: 0.0188 - acc: 0.9943 - val_loss: 0.0459 - val_acc: 0.9910\n",
      "Epoch 13/15\n",
      "60000/60000 [==============================] - 13s 224us/step - loss: 0.0170 - acc: 0.9951 - val_loss: 0.0383 - val_acc: 0.9921\n",
      "Epoch 14/15\n",
      "60000/60000 [==============================] - 14s 229us/step - loss: 0.0165 - acc: 0.9953 - val_loss: 0.0350 - val_acc: 0.9935\n",
      "Epoch 15/15\n",
      "60000/60000 [==============================] - 14s 226us/step - loss: 0.0134 - acc: 0.9961 - val_loss: 0.0292 - val_acc: 0.9934\n"
     ]
    }
   ],
   "source": [
    "#Training\n",
    "\n",
    "#keras could also split the data for us using  validation split option (=0.2)\n",
    "r=model.fit(x_train, y_train, validation_data=(x_test, y_test), epochs=15, batch_size = 32) #default verbose is 1"
   ]
  },
  {
   "cell_type": "code",
   "execution_count": 9,
   "metadata": {},
   "outputs": [
    {
     "name": "stdout",
     "output_type": "stream",
     "text": [
      "Returned <keras.callbacks.History object at 0x00000189A77FC940>\n",
      "{'val_loss': [0.044546553341065734, 0.04020343110186696, 0.03149124294475896, 0.030554056466098156, 0.0257640941104808, 0.021611036748021478, 0.02190264706503058, 0.03256600755994741, 0.025654756788548276, 0.029382453522242485, 0.025591338929560472, 0.045948741107643264, 0.038290955600108825, 0.03495827702714489, 0.029186722555387654], 'val_acc': [0.9873, 0.9878, 0.9895, 0.9908, 0.9918, 0.9933, 0.9936, 0.9913, 0.9934, 0.9923, 0.9939, 0.991, 0.9921, 0.9935, 0.9934], 'loss': [0.2389682518608868, 0.11263044021738072, 0.08604141373430224, 0.07010109862022801, 0.05710207850730512, 0.04757635415536934, 0.04118760429666145, 0.03254448088565829, 0.028100107400375662, 0.02484382780087229, 0.022411597010476302, 0.018846210939849485, 0.01701831487174571, 0.016484538668756432, 0.013394972864492411], 'acc': [0.9258333333333333, 0.9663833333333334, 0.9738833333333333, 0.9779666666666667, 0.98275, 0.9862166666666666, 0.9876166666666667, 0.9899, 0.9916333333333334, 0.9922333333333333, 0.9935833333333334, 0.9942666666666666, 0.9951, 0.9952833333333333, 0.9961166666666667]}\n",
      "dict_keys(['val_loss', 'val_acc', 'loss', 'acc'])\n"
     ]
    }
   ],
   "source": [
    "print(\"Returned\", r)\n",
    "print(r.history) #history is a dictionary that contains lists. These lists contain the losses that were found above\n",
    "\n",
    "print(r.history.keys()) #keys() returns the available dictionary keys"
   ]
  },
  {
   "cell_type": "code",
   "execution_count": 10,
   "metadata": {},
   "outputs": [
    {
     "data": {
      "image/png": "[encoded data removed]",
      "text/plain": [
       "<Figure size 432x288 with 1 Axes>"
      ]
     },
     "metadata": {
      "needs_background": "light"
     },
     "output_type": "display_data"
    }
   ],
   "source": [
    "#Plot our results(loss)\n",
    "\n",
    "history_dict = r.history\n",
    "\n",
    "loss_values = history_dict['loss']\n",
    "val_loss_values = history_dict['val_loss']\n",
    "epochs = range(1, len(loss_values) + 1) #we create the x axis which represents the epochs  (+1 in order to contain the final epoch)\n",
    "\n",
    "line1 = plt.plot(epochs, val_loss_values, label='Validation/Test Loss') #x, y, curve name\n",
    "line2 = plt.plot(epochs, loss_values, label='Training Loss')\n",
    "plt.setp(line1, linewidth=2.0, marker = '+', markersize=10.0) #line \"info\"\n",
    "plt.setp(line2, linewidth=2.0, marker = '4', markersize=10.0)\n",
    "plt.xlabel('Epochs') \n",
    "plt.ylabel('Loss')\n",
    "plt.grid(True) #our image has boxes\n",
    "plt.legend()  # plots the name of each curve\n",
    "plt.show()"
   ]
  },
  {
   "cell_type": "code",
   "execution_count": 11,
   "metadata": {},
   "outputs": [
    {
     "data": {
      "image/png": "[encoded data removed]",
      "text/plain": [
       "<Figure size 432x288 with 1 Axes>"
      ]
     },
     "metadata": {
      "needs_background": "light"
     },
     "output_type": "display_data"
    }
   ],
   "source": [
    "# Plot our results(accuracy)\n",
    "import matplotlib.pyplot as plt\n",
    "\n",
    "history_dict = r.history\n",
    "\n",
    "acc_values = history_dict['acc']\n",
    "val_acc_values = history_dict['val_acc']\n",
    "epochs = range(1, len(loss_values) + 1)  #we create the x axis which represents the epochs  (+1 in order to contain the final epoch)\n",
    "\n",
    "line1 = plt.plot(epochs, val_acc_values, label='Validation/Test Accuracy')#x, y, curve name\n",
    "line2 = plt.plot(epochs, acc_values, label='Training Accuracy')\n",
    "plt.setp(line1, linewidth=2.0, marker = '+', markersize=10.0)#line \"info\"\n",
    "plt.setp(line2, linewidth=2.0, marker = '4', markersize=10.0)\n",
    "plt.xlabel('Epochs') \n",
    "plt.ylabel('Accuracy')\n",
    "plt.grid(True)#our image has boxes\n",
    "plt.legend()# plots the name of each curve\n",
    "plt.show()"
   ]
  },
  {
   "cell_type": "code",
   "execution_count": 12,
   "metadata": {},
   "outputs": [],
   "source": [
    "#We could improve our accuracy by implementing an early stop since the accuracy after the 11th epoch gets worse 11acc :0.9939 15acc:0.9934"
   ]
  },
  {
   "cell_type": "code",
   "execution_count": 14,
   "metadata": {},
   "outputs": [
    {
     "name": "stdout",
     "output_type": "stream",
     "text": [
      "Model Saved\n"
     ]
    }
   ],
   "source": [
    "#Model saving\n",
    "\n",
    "model.save(\"Keras_hand_writting_recognition.h5\")\n",
    "print(\"Model Saved\")"
   ]
  },
  {
   "cell_type": "code",
   "execution_count": 15,
   "metadata": {},
   "outputs": [],
   "source": [
    "#Model loading\n",
    "\n",
    "#from keras.models import load_model\n",
    "\n",
    "#classifier = load_model('\"Keras_hand_writting_recognition.h5\"')"
   ]
  },
  {
   "cell_type": "code",
   "execution_count": 13,
   "metadata": {},
   "outputs": [
    {
     "name": "stdout",
     "output_type": "stream",
     "text": [
      "['/job:localhost/replica:0/task:0/device:GPU:0']\n",
      "[name: \"/device:CPU:0\"\n",
      "device_type: \"CPU\"\n",
      "memory_limit: 268435456\n",
      "locality {\n",
      "}\n",
      "incarnation: 12415854925739535887\n",
      ", name: \"/device:GPU:0\"\n",
      "device_type: \"GPU\"\n",
      "memory_limit: 6689526907\n",
      "locality {\n",
      "  bus_id: 1\n",
      "  links {\n",
      "  }\n",
      "}\n",
      "incarnation: 12698586958330258374\n",
      "physical_device_desc: \"device: 0, name: GeForce GTX 1080, pci bus id: 0000:01:00.0, compute capability: 6.1\"\n",
      "]\n"
     ]
    }
   ],
   "source": [
    "#Check if you are using the gpu version of keras\n",
    "\n",
    "from keras import backend as K\n",
    "print(K.tensorflow_backend._get_available_gpus())\n",
    "\n",
    "from tensorflow.python.client import device_lib\n",
    "print(device_lib.list_local_devices())"
   ]
  }
 ],
 "metadata": {
  "kernelspec": {
   "display_name": "Python 3",
   "language": "python",
   "name": "python3"
  },
  "language_info": {
   "codemirror_mode": {
    "name": "ipython",
    "version": 3
   },
   "file_extension": ".py",
   "mimetype": "text/x-python",
   "name": "python",
   "nbconvert_exporter": "python",
   "pygments_lexer": "ipython3",
   "version": "3.6.7"
  }
 },
 "nbformat": 4,
 "nbformat_minor": 2
}
